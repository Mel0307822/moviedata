{
  "cells": [
    {
      "cell_type": "markdown",
      "metadata": {
        "id": "view-in-github",
        "colab_type": "text"
      },
      "source": [
        "<a href=\"https://colab.research.google.com/github/Mel0307822/moviedata/blob/main/movie_magic_data_driven_recommendations.ipynb\" target=\"_parent\"><img src=\"https://colab.research.google.com/assets/colab-badge.svg\" alt=\"Open In Colab\"/></a>"
      ]
    },
    {
      "cell_type": "markdown",
      "id": "15a71ff1",
      "metadata": {
        "papermill": {
          "duration": 0.014462,
          "end_time": "2024-11-13T15:26:11.445095",
          "exception": false,
          "start_time": "2024-11-13T15:26:11.430633",
          "status": "completed"
        },
        "tags": [],
        "id": "15a71ff1"
      },
      "source": [
        "# <div style=\"text-align:center; border-radius:15px; padding:15px; margin:0; font-size:180%; font-family:Arial, sans-serif; background-color:#560c10; color:#DCD2C9; overflow:hidden; box-shadow:0 4px 8px rgba(0, 0, 0, 0.3);\"><b> Análisis de preferencia de espectadores y factores de éxito comercial de películas </b></div>"
      ]
    },
    {
      "cell_type": "markdown",
      "id": "75263d5f",
      "metadata": {
        "papermill": {
          "duration": 0.011351,
          "end_time": "2024-11-13T15:26:11.469444",
          "exception": false,
          "start_time": "2024-11-13T15:26:11.458093",
          "status": "completed"
        },
        "tags": [],
        "id": "75263d5f"
      },
      "source": [
        "![movie](https://i.postimg.cc/qMKfD6sK/flat-design-movie-theater-background-23-2150998492.jpg)"
      ]
    },
    {
      "cell_type": "markdown",
      "id": "231abec5",
      "metadata": {
        "papermill": {
          "duration": 0.011088,
          "end_time": "2024-11-13T15:26:11.491869",
          "exception": false,
          "start_time": "2024-11-13T15:26:11.480781",
          "status": "completed"
        },
        "tags": [],
        "id": "231abec5"
      },
      "source": [
        "# <div style=\"text-align:center; border-radius:15px; padding:15px; margin:0; font-size:110%; font-family:Arial, sans-serif; background-color:#0e560c; color:#E5EFE5; overflow:hidden; box-shadow:0 4px 8px rgba(0, 0, 0, 0.3);\"><b> 1. Importar librerias necesarias </b></div>"
      ]
    },
    {
      "cell_type": "code",
      "execution_count": 1,
      "id": "4b7818bc",
      "metadata": {
        "_cell_guid": "b1076dfc-b9ad-4769-8c92-a6c4dae69d19",
        "_uuid": "8f2839f25d086af736a60e9eeb907d3b93b6e0e5",
        "execution": {
          "iopub.execute_input": "2024-11-13T15:26:11.517968Z",
          "iopub.status.busy": "2024-11-13T15:26:11.517374Z",
          "iopub.status.idle": "2024-11-13T15:26:31.189805Z",
          "shell.execute_reply": "2024-11-13T15:26:31.188543Z"
        },
        "papermill": {
          "duration": 19.688605,
          "end_time": "2024-11-13T15:26:31.192833",
          "exception": false,
          "start_time": "2024-11-13T15:26:11.504228",
          "status": "completed"
        },
        "tags": [],
        "id": "4b7818bc"
      },
      "outputs": [],
      "source": [
        "# Importar librerias\n",
        "import pandas as pd\n",
        "import numpy as np\n",
        "import matplotlib.pyplot as plt\n",
        "import seaborn as sns\n",
        "from matplotlib.colors import LinearSegmentedColormap\n",
        "from sklearn.model_selection import train_test_split\n",
        "from tensorflow.keras import layers, models\n",
        "import ast\n",
        "import warnings\n",
        "\n",
        "# Formato de colores de la librerias seaborn\n",
        "palette = ['#f28a30', '#3b94d9', '#e0c72c', '#6a4d8e', '#e63946', '#2a9d8f', '#264653']\n",
        "sns.set_theme(context='notebook', palette=palette, style='white')\n",
        "\n",
        "# Eliminar alertas (warnings)\n",
        "warnings.simplefilter(action='ignore', category=FutureWarning)\n",
        "\n",
        "%matplotlib inline"
      ]
    },
    {
      "cell_type": "markdown",
      "id": "d3c5983a",
      "metadata": {
        "papermill": {
          "duration": 0.010993,
          "end_time": "2024-11-13T15:26:31.215267",
          "exception": false,
          "start_time": "2024-11-13T15:26:31.204274",
          "status": "completed"
        },
        "tags": [],
        "id": "d3c5983a"
      },
      "source": [
        "# <div style=\"text-align:center; border-radius:15px; padding:15px; margin:0; font-size:110%; font-family:Arial, sans-serif; background-color:#0e560c; color:#E5EFE5; overflow:hidden; box-shadow:0 4px 8px rgba(0, 0, 0, 0.3);\"><b> 2. Limpieza de datos\n",
        " </b></div>"
      ]
    },
    {
      "cell_type": "markdown",
      "id": "1e50ad23",
      "metadata": {
        "papermill": {
          "duration": 0.011513,
          "end_time": "2024-11-13T15:26:31.238198",
          "exception": false,
          "start_time": "2024-11-13T15:26:31.226685",
          "status": "completed"
        },
        "tags": [],
        "id": "1e50ad23"
      },
      "source": [
        "- **Paso 1: Lectura de datos.** Comencemos leyendo el archivo CSV que contiene los metadatos de las películas (movie_metadata.csv)\n",
        "\n",
        "- **Paso 2: Limpiar los datos de las películas.** Las filas con valores perdidos en la columna id se eliminan para garantizar un conjunto de datos limpio.\n"
      ]
    },
    {
      "cell_type": "code",
      "execution_count": 2,
      "id": "9692e5b6",
      "metadata": {
        "execution": {
          "iopub.execute_input": "2024-11-13T15:26:31.263316Z",
          "iopub.status.busy": "2024-11-13T15:26:31.262571Z",
          "iopub.status.idle": "2024-11-13T15:26:32.809483Z",
          "shell.execute_reply": "2024-11-13T15:26:32.808316Z"
        },
        "papermill": {
          "duration": 1.562965,
          "end_time": "2024-11-13T15:26:32.812585",
          "exception": false,
          "start_time": "2024-11-13T15:26:31.249620",
          "status": "completed"
        },
        "tags": [],
        "colab": {
          "base_uri": "https://localhost:8080/"
        },
        "id": "9692e5b6",
        "outputId": "1de4976c-5a37-4968-aeb8-80df55a91fc7"
      },
      "outputs": [
        {
          "output_type": "stream",
          "name": "stdout",
          "text": [
            "<class 'pandas.core.frame.DataFrame'>\n",
            "RangeIndex: 5043 entries, 0 to 5042\n",
            "Data columns (total 29 columns):\n",
            " #   Column                     Non-Null Count  Dtype  \n",
            "---  ------                     --------------  -----  \n",
            " 0   Id                         5043 non-null   int64  \n",
            " 1   movie_title                5043 non-null   object \n",
            " 2   genero                     5043 non-null   object \n",
            " 3   plot_keywords              4890 non-null   object \n",
            " 4   color                      5024 non-null   object \n",
            " 5   director_name              4939 non-null   object \n",
            " 6   num_critic_for_reviews     4993 non-null   float64\n",
            " 7   duration                   5028 non-null   float64\n",
            " 8   director_facebook_likes    4939 non-null   float64\n",
            " 9   actor_3_facebook_likes     5020 non-null   float64\n",
            " 10  actor_2_name               5030 non-null   object \n",
            " 11  actor_1_facebook_likes     5036 non-null   float64\n",
            " 12  gross                      4159 non-null   float64\n",
            " 13  actor_1_name               5036 non-null   object \n",
            " 14  num_voted_users            5043 non-null   int64  \n",
            " 15  cast_total_facebook_likes  5043 non-null   int64  \n",
            " 16  actor_3_name               5020 non-null   object \n",
            " 17  facenumber_in_poster       5030 non-null   float64\n",
            " 18  movie_imdb_link            5043 non-null   object \n",
            " 19  num_user_for_reviews       5022 non-null   float64\n",
            " 20  language                   5029 non-null   object \n",
            " 21  country                    5038 non-null   object \n",
            " 22  content_rating             4740 non-null   object \n",
            " 23  budget                     4551 non-null   float64\n",
            " 24  title_year                 4935 non-null   float64\n",
            " 25  actor_2_facebook_likes     5030 non-null   float64\n",
            " 26  imdb_score                 5043 non-null   float64\n",
            " 27  aspect_ratio               4714 non-null   float64\n",
            " 28  movie_facebook_likes       5043 non-null   int64  \n",
            "dtypes: float64(13), int64(4), object(12)\n",
            "memory usage: 1.1+ MB\n"
          ]
        }
      ],
      "source": [
        "# Lectura de documento CSV\n",
        "movies_df=pd.read_csv('movie_metadata.csv')\n",
        "\n",
        "# Limpieza de la columna Id\n",
        "movies_df['Id'] = pd.to_numeric(movies_df['Id'], errors='coerce')  # 'coerce' turns invalid parsing into NaN\n",
        "\n",
        "# Eliminación de columnas donde Id sea NaN\n",
        "movies_df.dropna(subset=['Id'], inplace=True)\n",
        "movies_df.info()"
      ]
    },
    {
      "cell_type": "markdown",
      "id": "4a3cb5eb",
      "metadata": {
        "papermill": {
          "duration": 0.011239,
          "end_time": "2024-11-13T15:26:32.835240",
          "exception": false,
          "start_time": "2024-11-13T15:26:32.824001",
          "status": "completed"
        },
        "tags": [],
        "id": "4a3cb5eb"
      },
      "source": [
        "# <div style=\"text-align:center; border-radius:15px; padding:15px; margin:0; font-size:110%; font-family:Arial, sans-serif; background-color:#0e560c; color:#E5EFE5;overflow:hidden; box-shadow:0 4px 8px rgba(0, 0, 0, 0.3);\"><b> 3. Preprocesamiento de datos e ingeniería de características </b></div>"
      ]
    },
    {
      "cell_type": "markdown",
      "id": "0da27e4f",
      "metadata": {
        "papermill": {
          "duration": 0.011666,
          "end_time": "2024-11-13T15:26:32.858132",
          "exception": false,
          "start_time": "2024-11-13T15:26:32.846466",
          "status": "completed"
        },
        "tags": [],
        "id": "0da27e4f"
      },
      "source": [
        "- **Paso 3: Selección de columnas relevantes**. Conservaremos sólo las columnas esenciales para nuestro modelo de recomendación, como ID, título de la película, género, palabras clave del argumento, nombre del director, ingreso bruto, puntuación imdb, etc.\n",
        "\n",
        "-  **Paso 4: Procesamiento de géneros**. Los datos de género se almacenan inicialmente como un objeto. Primero, rellenaremos los datos de género que falten con listas vacías. Después, usando el método split de Python, convertiremos estas representaciones de cadena en listas reales de Python.\n",
        "\n",
        "- ** Paso 5: Extraer los nombres de los géneros. ** De la lista de diccionarios, extraigamos los nombres de los géneros y almacenémoslos en una nueva columna llamada genre_names. Esto hace que los datos de género sean más accesibles para su posterior procesamiento.\n",
        "\n",
        "-  **Paso 6: Codificación de géneros**. Dado que la información de género es categórica, realizaremos una codificación en caliente para convertir los nombres de género en columnas binarias. Este paso nos permite utilizar los géneros como características de entrada para nuestro modelo de recomendación.\n",
        "\n",
        "-  **Paso 7: Eliminación de columnas innecesarias**. Tras la codificación de una sola vez, las columnas originales genres y genre_names ya no son necesarias, por lo que se eliminan del conjunto de datos.\n"
      ]
    },
    {
      "cell_type": "code",
      "source": [
        "# Selección de columnas relevantes para el modelo\n",
        "relevant_data = movies_df[['Id','movie_title', 'genero', 'plot_keywords', 'director_name', 'actor_1_name', 'gross', 'content_rating',\n",
        "                          'budget', 'imdb_score', 'movie_facebook_likes']]\n",
        "relevant_data.info()"
      ],
      "metadata": {
        "colab": {
          "base_uri": "https://localhost:8080/"
        },
        "id": "dTLbnfH22tZk",
        "outputId": "8e759bea-4b28-46b7-9094-b0a7d044515a"
      },
      "id": "dTLbnfH22tZk",
      "execution_count": 3,
      "outputs": [
        {
          "output_type": "stream",
          "name": "stdout",
          "text": [
            "<class 'pandas.core.frame.DataFrame'>\n",
            "RangeIndex: 5043 entries, 0 to 5042\n",
            "Data columns (total 11 columns):\n",
            " #   Column                Non-Null Count  Dtype  \n",
            "---  ------                --------------  -----  \n",
            " 0   Id                    5043 non-null   int64  \n",
            " 1   movie_title           5043 non-null   object \n",
            " 2   genero                5043 non-null   object \n",
            " 3   plot_keywords         4890 non-null   object \n",
            " 4   director_name         4939 non-null   object \n",
            " 5   actor_1_name          5036 non-null   object \n",
            " 6   gross                 4159 non-null   float64\n",
            " 7   content_rating        4740 non-null   object \n",
            " 8   budget                4551 non-null   float64\n",
            " 9   imdb_score            5043 non-null   float64\n",
            " 10  movie_facebook_likes  5043 non-null   int64  \n",
            "dtypes: float64(3), int64(2), object(6)\n",
            "memory usage: 433.5+ KB\n"
          ]
        }
      ]
    },
    {
      "cell_type": "code",
      "source": [
        "# Procesamiento de géneros\n",
        "# Llenar las filas de género vacías con listas vacías\n",
        "relevant_data['genero'] = relevant_data['genero'].fillna('[]')\n",
        "\n",
        "relevant_data['genero'] = relevant_data['genero'].apply(lambda x: x.split('|'))\n",
        "\n",
        "relevant_data['genero'].head()"
      ],
      "metadata": {
        "colab": {
          "base_uri": "https://localhost:8080/",
          "height": 476
        },
        "id": "MshJ1Q8k2v68",
        "outputId": "4c408f85-51da-4a31-b225-bf023e2e6a15"
      },
      "id": "MshJ1Q8k2v68",
      "execution_count": 4,
      "outputs": [
        {
          "output_type": "stream",
          "name": "stderr",
          "text": [
            "<ipython-input-4-f9f203db423b>:3: SettingWithCopyWarning: \n",
            "A value is trying to be set on a copy of a slice from a DataFrame.\n",
            "Try using .loc[row_indexer,col_indexer] = value instead\n",
            "\n",
            "See the caveats in the documentation: https://pandas.pydata.org/pandas-docs/stable/user_guide/indexing.html#returning-a-view-versus-a-copy\n",
            "  relevant_data['genero'] = relevant_data['genero'].fillna('[]')\n",
            "<ipython-input-4-f9f203db423b>:5: SettingWithCopyWarning: \n",
            "A value is trying to be set on a copy of a slice from a DataFrame.\n",
            "Try using .loc[row_indexer,col_indexer] = value instead\n",
            "\n",
            "See the caveats in the documentation: https://pandas.pydata.org/pandas-docs/stable/user_guide/indexing.html#returning-a-view-versus-a-copy\n",
            "  relevant_data['genero'] = relevant_data['genero'].apply(lambda x: x.split('|'))\n"
          ]
        },
        {
          "output_type": "execute_result",
          "data": {
            "text/plain": [
              "0    [Action, Adventure, Fantasy, Sci-Fi]\n",
              "1            [Action, Adventure, Fantasy]\n",
              "2           [Action, Adventure, Thriller]\n",
              "3                      [Action, Thriller]\n",
              "4                           [Documentary]\n",
              "Name: genero, dtype: object"
            ],
            "text/html": [
              "<div>\n",
              "<style scoped>\n",
              "    .dataframe tbody tr th:only-of-type {\n",
              "        vertical-align: middle;\n",
              "    }\n",
              "\n",
              "    .dataframe tbody tr th {\n",
              "        vertical-align: top;\n",
              "    }\n",
              "\n",
              "    .dataframe thead th {\n",
              "        text-align: right;\n",
              "    }\n",
              "</style>\n",
              "<table border=\"1\" class=\"dataframe\">\n",
              "  <thead>\n",
              "    <tr style=\"text-align: right;\">\n",
              "      <th></th>\n",
              "      <th>genero</th>\n",
              "    </tr>\n",
              "  </thead>\n",
              "  <tbody>\n",
              "    <tr>\n",
              "      <th>0</th>\n",
              "      <td>[Action, Adventure, Fantasy, Sci-Fi]</td>\n",
              "    </tr>\n",
              "    <tr>\n",
              "      <th>1</th>\n",
              "      <td>[Action, Adventure, Fantasy]</td>\n",
              "    </tr>\n",
              "    <tr>\n",
              "      <th>2</th>\n",
              "      <td>[Action, Adventure, Thriller]</td>\n",
              "    </tr>\n",
              "    <tr>\n",
              "      <th>3</th>\n",
              "      <td>[Action, Thriller]</td>\n",
              "    </tr>\n",
              "    <tr>\n",
              "      <th>4</th>\n",
              "      <td>[Documentary]</td>\n",
              "    </tr>\n",
              "  </tbody>\n",
              "</table>\n",
              "</div><br><label><b>dtype:</b> object</label>"
            ]
          },
          "metadata": {},
          "execution_count": 4
        }
      ]
    },
    {
      "cell_type": "code",
      "source": [
        "# Copiar la información en nueva columna para evitar la sustitución de la información\n",
        "relevant_data['genre_names'] = relevant_data['genero']\n"
      ],
      "metadata": {
        "colab": {
          "base_uri": "https://localhost:8080/"
        },
        "id": "YL--glh622az",
        "outputId": "5aa03e16-def8-452e-a7a6-8ef70c73dea7"
      },
      "id": "YL--glh622az",
      "execution_count": 5,
      "outputs": [
        {
          "output_type": "stream",
          "name": "stderr",
          "text": [
            "<ipython-input-5-2d0c23cca931>:2: SettingWithCopyWarning: \n",
            "A value is trying to be set on a copy of a slice from a DataFrame.\n",
            "Try using .loc[row_indexer,col_indexer] = value instead\n",
            "\n",
            "See the caveats in the documentation: https://pandas.pydata.org/pandas-docs/stable/user_guide/indexing.html#returning-a-view-versus-a-copy\n",
            "  relevant_data['genre_names'] = relevant_data['genero']\n"
          ]
        }
      ]
    },
    {
      "cell_type": "code",
      "source": [
        "# One-hot encoding género\n",
        "# convertir los valores de Género a binarios para tomar estos valores como entradas de la red neuronal\n",
        "genre_dummies = relevant_data['genre_names'].str.join('|').str.get_dummies()\n",
        "print(genre_dummies)"
      ],
      "metadata": {
        "colab": {
          "base_uri": "https://localhost:8080/"
        },
        "id": "QvD2IQnI24y2",
        "outputId": "65b8addd-bfb4-4ded-8736-1de00a20c591"
      },
      "id": "QvD2IQnI24y2",
      "execution_count": 6,
      "outputs": [
        {
          "output_type": "stream",
          "name": "stdout",
          "text": [
            "      Action  Adventure  Animation  Biography  Comedy  Crime  Documentary  \\\n",
            "0          1          1          0          0       0      0            0   \n",
            "1          1          1          0          0       0      0            0   \n",
            "2          1          1          0          0       0      0            0   \n",
            "3          1          0          0          0       0      0            0   \n",
            "4          0          0          0          0       0      0            1   \n",
            "...      ...        ...        ...        ...     ...    ...          ...   \n",
            "5038       0          0          0          0       1      0            0   \n",
            "5039       0          0          0          0       0      1            0   \n",
            "5040       0          0          0          0       0      0            0   \n",
            "5041       0          0          0          0       1      0            0   \n",
            "5042       0          0          0          0       0      0            1   \n",
            "\n",
            "      Drama  Family  Fantasy  ...  Mystery  News  Reality-TV  Romance  Sci-Fi  \\\n",
            "0         0       0        1  ...        0     0           0        0       1   \n",
            "1         0       0        1  ...        0     0           0        0       0   \n",
            "2         0       0        0  ...        0     0           0        0       0   \n",
            "3         0       0        0  ...        0     0           0        0       0   \n",
            "4         0       0        0  ...        0     0           0        0       0   \n",
            "...     ...     ...      ...  ...      ...   ...         ...      ...     ...   \n",
            "5038      1       0        0  ...        0     0           0        0       0   \n",
            "5039      1       0        0  ...        1     0           0        0       0   \n",
            "5040      1       0        0  ...        0     0           0        0       0   \n",
            "5041      1       0        0  ...        0     0           0        1       0   \n",
            "5042      0       0        0  ...        0     0           0        0       0   \n",
            "\n",
            "      Short  Sport  Thriller  War  Western  \n",
            "0         0      0         0    0        0  \n",
            "1         0      0         0    0        0  \n",
            "2         0      0         1    0        0  \n",
            "3         0      0         1    0        0  \n",
            "4         0      0         0    0        0  \n",
            "...     ...    ...       ...  ...      ...  \n",
            "5038      0      0         0    0        0  \n",
            "5039      0      0         1    0        0  \n",
            "5040      0      0         1    0        0  \n",
            "5041      0      0         0    0        0  \n",
            "5042      0      0         0    0        0  \n",
            "\n",
            "[5043 rows x 26 columns]\n"
          ]
        }
      ]
    },
    {
      "cell_type": "code",
      "source": [
        "# Concatenar los dummies con el dataframe original\n",
        "relevant_data = pd.concat([relevant_data, genre_dummies], axis=1)"
      ],
      "metadata": {
        "id": "wnj9bfjn27YW"
      },
      "id": "wnj9bfjn27YW",
      "execution_count": 7,
      "outputs": []
    },
    {
      "cell_type": "code",
      "execution_count": 8,
      "id": "734537f4",
      "metadata": {
        "execution": {
          "iopub.execute_input": "2024-11-13T15:26:32.882615Z",
          "iopub.status.busy": "2024-11-13T15:26:32.882134Z",
          "iopub.status.idle": "2024-11-13T15:26:35.935467Z",
          "shell.execute_reply": "2024-11-13T15:26:35.934253Z"
        },
        "papermill": {
          "duration": 3.068847,
          "end_time": "2024-11-13T15:26:35.938255",
          "exception": false,
          "start_time": "2024-11-13T15:26:32.869408",
          "status": "completed"
        },
        "tags": [],
        "colab": {
          "base_uri": "https://localhost:8080/"
        },
        "id": "734537f4",
        "outputId": "e7730ce2-0fd5-4c12-d57e-349e6f9363b5"
      },
      "outputs": [
        {
          "output_type": "stream",
          "name": "stdout",
          "text": [
            "<class 'pandas.core.frame.DataFrame'>\n",
            "RangeIndex: 5043 entries, 0 to 5042\n",
            "Data columns (total 36 columns):\n",
            " #   Column                Non-Null Count  Dtype  \n",
            "---  ------                --------------  -----  \n",
            " 0   Id                    5043 non-null   int64  \n",
            " 1   movie_title           5043 non-null   object \n",
            " 2   plot_keywords         4890 non-null   object \n",
            " 3   director_name         4939 non-null   object \n",
            " 4   actor_1_name          5036 non-null   object \n",
            " 5   gross                 4159 non-null   float64\n",
            " 6   content_rating        4740 non-null   object \n",
            " 7   budget                4551 non-null   float64\n",
            " 8   imdb_score            5043 non-null   float64\n",
            " 9   movie_facebook_likes  5043 non-null   int64  \n",
            " 10  Action                5043 non-null   int64  \n",
            " 11  Adventure             5043 non-null   int64  \n",
            " 12  Animation             5043 non-null   int64  \n",
            " 13  Biography             5043 non-null   int64  \n",
            " 14  Comedy                5043 non-null   int64  \n",
            " 15  Crime                 5043 non-null   int64  \n",
            " 16  Documentary           5043 non-null   int64  \n",
            " 17  Drama                 5043 non-null   int64  \n",
            " 18  Family                5043 non-null   int64  \n",
            " 19  Fantasy               5043 non-null   int64  \n",
            " 20  Film-Noir             5043 non-null   int64  \n",
            " 21  Game-Show             5043 non-null   int64  \n",
            " 22  History               5043 non-null   int64  \n",
            " 23  Horror                5043 non-null   int64  \n",
            " 24  Music                 5043 non-null   int64  \n",
            " 25  Musical               5043 non-null   int64  \n",
            " 26  Mystery               5043 non-null   int64  \n",
            " 27  News                  5043 non-null   int64  \n",
            " 28  Reality-TV            5043 non-null   int64  \n",
            " 29  Romance               5043 non-null   int64  \n",
            " 30  Sci-Fi                5043 non-null   int64  \n",
            " 31  Short                 5043 non-null   int64  \n",
            " 32  Sport                 5043 non-null   int64  \n",
            " 33  Thriller              5043 non-null   int64  \n",
            " 34  War                   5043 non-null   int64  \n",
            " 35  Western               5043 non-null   int64  \n",
            "dtypes: float64(3), int64(28), object(5)\n",
            "memory usage: 1.4+ MB\n"
          ]
        }
      ],
      "source": [
        "# Eliminación de las columnas genero y genre-names que ya fueron binarizadas\n",
        "relevant_data.drop(['genero','genre_names'],axis=1, inplace=True)\n",
        "relevant_data.info()"
      ]
    },
    {
      "cell_type": "markdown",
      "id": "8b032a69",
      "metadata": {
        "papermill": {
          "duration": 0.012234,
          "end_time": "2024-11-13T15:26:35.962263",
          "exception": false,
          "start_time": "2024-11-13T15:26:35.950029",
          "status": "completed"
        },
        "tags": [],
        "id": "8b032a69"
      },
      "source": [
        "# <div style=\"text-align:center; border-radius:15px; padding:15px; margin:0; font-size:110%; font-family:Arial, sans-serif; background-color:#0e560c; color:#E5EFE5; overflow:hidden; box-shadow:0 4px 8px rgba(0, 0, 0, 0.3);\"><b> 4. Exploratory Data Analysis </b></div>"
      ]
    },
    {
      "cell_type": "markdown",
      "id": "e18152bf",
      "metadata": {
        "papermill": {
          "duration": 0.011285,
          "end_time": "2024-11-13T15:26:35.985543",
          "exception": false,
          "start_time": "2024-11-13T15:26:35.974258",
          "status": "completed"
        },
        "tags": [],
        "id": "e18152bf"
      },
      "source": [
        "## Movie Genre Distribution"
      ]
    },
    {
      "cell_type": "code",
      "execution_count": 9,
      "id": "0f4cc45a",
      "metadata": {
        "execution": {
          "iopub.execute_input": "2024-11-13T15:26:36.010702Z",
          "iopub.status.busy": "2024-11-13T15:26:36.010101Z",
          "iopub.status.idle": "2024-11-13T15:26:36.581108Z",
          "shell.execute_reply": "2024-11-13T15:26:36.579930Z"
        },
        "papermill": {
          "duration": 0.587139,
          "end_time": "2024-11-13T15:26:36.584238",
          "exception": false,
          "start_time": "2024-11-13T15:26:35.997099",
          "status": "completed"
        },
        "tags": [],
        "colab": {
          "base_uri": "https://localhost:8080/",
          "height": 628
        },
        "id": "0f4cc45a",
        "outputId": "6c467912-d918-42b3-dd88-6f5fac5142a3"
      },
      "outputs": [
        {
          "output_type": "stream",
          "name": "stderr",
          "text": [
            "<ipython-input-9-fc333ccb6b6d>:6: UserWarning: \n",
            "The palette list has fewer values (7) than needed (26) and will cycle, which may produce an uninterpretable plot.\n",
            "  sns.barplot(x=genre_counts.values, y=genre_counts.index, palette=palette)\n"
          ]
        },
        {
          "output_type": "display_data",
          "data": {
            "text/plain": [
              "<Figure size 1000x600 with 1 Axes>"
            ],
            "image/png": "[encoded data removed]"
          },
          "metadata": {}
        }
      ],
      "source": [
        "#Conteo de datos por genero\n",
        "genre_counts = genre_dummies.sum().sort_values(ascending=False)\n",
        "\n",
        "#Graficación de la información adquirida\n",
        "plt.figure(figsize=(10, 6))\n",
        "sns.barplot(x=genre_counts.values, y=genre_counts.index, palette=palette)\n",
        "plt.title('Distribución de géneros de películas')\n",
        "plt.xlabel('Número de películas')\n",
        "plt.ylabel('Géneros')\n",
        "plt.show()"
      ]
    },
    {
      "cell_type": "markdown",
      "id": "c9d6f60a",
      "metadata": {
        "papermill": {
          "duration": 0.012267,
          "end_time": "2024-11-13T15:26:36.608994",
          "exception": false,
          "start_time": "2024-11-13T15:26:36.596727",
          "status": "completed"
        },
        "tags": [],
        "id": "c9d6f60a"
      },
      "source": [
        "## User Rating Distribution"
      ]
    },
    {
      "cell_type": "code",
      "execution_count": 10,
      "id": "f2b2462c",
      "metadata": {
        "execution": {
          "iopub.execute_input": "2024-11-13T15:26:36.635619Z",
          "iopub.status.busy": "2024-11-13T15:26:36.635191Z",
          "iopub.status.idle": "2024-11-13T15:26:37.127354Z",
          "shell.execute_reply": "2024-11-13T15:26:37.126091Z"
        },
        "papermill": {
          "duration": 0.508675,
          "end_time": "2024-11-13T15:26:37.130076",
          "exception": false,
          "start_time": "2024-11-13T15:26:36.621401",
          "status": "completed"
        },
        "tags": [],
        "colab": {
          "base_uri": "https://localhost:8080/",
          "height": 573
        },
        "id": "f2b2462c",
        "outputId": "7797ff47-b4e5-4791-ea7d-100b8a7b535f"
      },
      "outputs": [
        {
          "output_type": "display_data",
          "data": {
            "text/plain": [
              "<Figure size 1000x600 with 1 Axes>"
            ],
            "image/png": "[encoded data removed]"
          },
          "metadata": {}
        }
      ],
      "source": [
        "#Gráfico de la distribución de valoraciones imdb\n",
        "plt.figure(figsize=(10, 6))\n",
        "sns.histplot(relevant_data['imdb_score'], bins=10, kde=False, color=palette[0])\n",
        "plt.title('Distribución de puntajes imdb')\n",
        "plt.xlabel('Puntajes imdb')\n",
        "plt.ylabel('Conteo')\n",
        "plt.show()"
      ]
    },
    {
      "cell_type": "markdown",
      "id": "908fd7b6",
      "metadata": {
        "papermill": {
          "duration": 0.01245,
          "end_time": "2024-11-13T15:26:37.155370",
          "exception": false,
          "start_time": "2024-11-13T15:26:37.142920",
          "status": "completed"
        },
        "tags": [],
        "id": "908fd7b6"
      },
      "source": [
        "## Mapa de correlación entre las variables seleccionadas\n",
        "\n",
        "\n"
      ]
    },
    {
      "cell_type": "code",
      "execution_count": 11,
      "id": "ff8210fc",
      "metadata": {
        "execution": {
          "iopub.execute_input": "2024-11-13T15:26:37.184825Z",
          "iopub.status.busy": "2024-11-13T15:26:37.183670Z",
          "iopub.status.idle": "2024-11-13T15:26:37.788620Z",
          "shell.execute_reply": "2024-11-13T15:26:37.787263Z"
        },
        "papermill": {
          "duration": 0.622724,
          "end_time": "2024-11-13T15:26:37.791810",
          "exception": false,
          "start_time": "2024-11-13T15:26:37.169086",
          "status": "completed"
        },
        "tags": [],
        "colab": {
          "base_uri": "https://localhost:8080/",
          "height": 705
        },
        "id": "ff8210fc",
        "outputId": "4fb65f8d-6da9-4633-8f31-882e61e27774"
      },
      "outputs": [
        {
          "output_type": "display_data",
          "data": {
            "text/plain": [
              "<Figure size 1000x800 with 2 Axes>"
            ],
            "image/png": "[encoded data removed]"
          },
          "metadata": {}
        }
      ],
      "source": [
        "# Formateo de la información del mata de correlación\n",
        "colors = ['#8B0000', '#f0e68c', '#0e560c']\n",
        "cmap = LinearSegmentedColormap.from_list(\"custom_cmap\", colors)\n",
        "\n",
        "#Matriz de correlación entre las variables numéricas\n",
        "numeric_features = ['gross', 'budget', 'imdb_score', 'movie_facebook_likes']\n",
        "correlation_matrix = relevant_data[numeric_features].corr()\n",
        "\n",
        "plt.figure(figsize=(10, 8))\n",
        "sns.heatmap(correlation_matrix, annot=True, cmap=cmap, vmin=-1, vmax=1)\n",
        "plt.title('Mapa de correlación entre atributos de las películas')\n",
        "plt.show()"
      ]
    },
    {
      "cell_type": "code",
      "execution_count": 12,
      "id": "e8bb5bfc",
      "metadata": {
        "execution": {
          "iopub.execute_input": "2024-11-13T15:26:38.388120Z",
          "iopub.status.busy": "2024-11-13T15:26:38.387666Z",
          "iopub.status.idle": "2024-11-13T15:26:38.961499Z",
          "shell.execute_reply": "2024-11-13T15:26:38.960165Z"
        },
        "papermill": {
          "duration": 0.593497,
          "end_time": "2024-11-13T15:26:38.964502",
          "exception": false,
          "start_time": "2024-11-13T15:26:38.371005",
          "status": "completed"
        },
        "tags": [],
        "colab": {
          "base_uri": "https://localhost:8080/",
          "height": 717
        },
        "id": "e8bb5bfc",
        "outputId": "7ba7ffd6-4360-437a-cfba-baa049462ce1"
      },
      "outputs": [
        {
          "output_type": "stream",
          "name": "stderr",
          "text": [
            "<ipython-input-12-11ecacfe68cb>:5: UserWarning: \n",
            "The palette list has fewer values (7) than needed (10) and will cycle, which may produce an uninterpretable plot.\n",
            "  sns.boxplot(x='imdb_score', y='movie_title', data=relevant_data[relevant_data['movie_title'].isin(top_rated_movies)], palette=palette)\n"
          ]
        },
        {
          "output_type": "display_data",
          "data": {
            "text/plain": [
              "<Figure size 1200x800 with 1 Axes>"
            ],
            "image/png": "[encoded data removed]"
          },
          "metadata": {}
        }
      ],
      "source": [
        "#Conteo de las películas\n",
        "top_rated_movies = relevant_data['movie_title'].value_counts().index[:10]\n",
        "\n",
        "plt.figure(figsize=(12, 8))\n",
        "sns.boxplot(x='imdb_score', y='movie_title', data=relevant_data[relevant_data['movie_title'].isin(top_rated_movies)], palette=palette)\n",
        "plt.title('Distribución de puntajes de las 10 películas más vistas')\n",
        "plt.xlabel('Puntaje')\n",
        "plt.ylabel('Título')\n",
        "plt.show()"
      ]
    },
    {
      "cell_type": "markdown",
      "id": "c1f52a82",
      "metadata": {
        "papermill": {
          "duration": 0.015737,
          "end_time": "2024-11-13T15:26:38.997376",
          "exception": false,
          "start_time": "2024-11-13T15:26:38.981639",
          "status": "completed"
        },
        "tags": [],
        "id": "c1f52a82"
      },
      "source": [
        "# <div style=\"text-align:center; border-radius:15px; padding:15px; margin:0; font-size:110%; font-family:Arial, sans-serif; background-color:#0e560c; color:#E5EFE5; overflow:hidden; box-shadow:0 4px 8px rgba(0, 0, 0, 0.3);\"><b> 5. Prepare Data for the Model </b></div>"
      ]
    },
    {
      "cell_type": "markdown",
      "id": "2814457b",
      "metadata": {
        "papermill": {
          "duration": 0.015908,
          "end_time": "2024-11-13T15:26:39.031984",
          "exception": false,
          "start_time": "2024-11-13T15:26:39.016076",
          "status": "completed"
        },
        "tags": [],
        "id": "2814457b"
      },
      "source": [
        "- **Step 10: Preprocessing for Model Input**. We will ensure that userId and movieId are properly formatted as integers. The ratings are also normalized to a scale of 0-1, which helps with model convergence during training.\n",
        "\n",
        "- **Step 11: Splitting the Data**. The dataset is split into training and testing sets (80% for training and 20% for testing). This allows us to train the model on one portion of the data and evaluate its performance on unseen data."
      ]
    },
    {
      "cell_type": "code",
      "execution_count": 13,
      "id": "c4488d6c",
      "metadata": {
        "execution": {
          "iopub.execute_input": "2024-11-13T15:26:39.066997Z",
          "iopub.status.busy": "2024-11-13T15:26:39.065778Z",
          "iopub.status.idle": "2024-11-13T15:26:39.107012Z",
          "shell.execute_reply": "2024-11-13T15:26:39.105845Z"
        },
        "papermill": {
          "duration": 0.061568,
          "end_time": "2024-11-13T15:26:39.109874",
          "exception": false,
          "start_time": "2024-11-13T15:26:39.048306",
          "status": "completed"
        },
        "tags": [],
        "id": "c4488d6c"
      },
      "outputs": [],
      "source": [
        "# Normalizar los puntajes entre 0 y 1 para facilitar el entrenamiento (Escala original entre 1 y 10)\n",
        "relevant_data['imdb_score'] = relevant_data['imdb_score'] / relevant_data['imdb_score'].max()\n",
        "\n",
        "# División de los datos en entrenamiento y prueba (Entrenamiento 80% y prueba 20%)\n",
        "train, test = train_test_split(relevant_data, test_size=0.2, random_state=42)\n",
        "\n",
        "# Preparar imdb_score para las salidas del entrenamiento\n",
        "train_ratings = train['imdb_score'].values\n",
        "\n",
        "test_ratings = test['imdb_score'].values\n",
        "\n"
      ]
    },
    {
      "cell_type": "markdown",
      "id": "6e4789c4",
      "metadata": {
        "papermill": {
          "duration": 0.015902,
          "end_time": "2024-11-13T15:26:39.141973",
          "exception": false,
          "start_time": "2024-11-13T15:26:39.126071",
          "status": "completed"
        },
        "tags": [],
        "id": "6e4789c4"
      },
      "source": [
        "# <div style=\"text-align:center; border-radius:15px; padding:15px; margin:0; font-size:110%; font-family:Arial, sans-serif; background-color:#0e560c; color:#E5EFE5;overflow:hidden; box-shadow:0 4px 8px rgba(0, 0, 0, 0.3);\"><b> 6. Build the Neural Network Model </b></div>"
      ]
    },
    {
      "cell_type": "markdown",
      "id": "375c3b7e",
      "metadata": {
        "papermill": {
          "duration": 0.016036,
          "end_time": "2024-11-13T15:26:39.174341",
          "exception": false,
          "start_time": "2024-11-13T15:26:39.158305",
          "status": "completed"
        },
        "tags": [],
        "id": "375c3b7e"
      },
      "source": [
        "- **Step 12: Building the Recommendation Model**. We will use a neural network-based approach for this recommendation system. The key features of this model include:\n",
        "\n",
        "    - **Embedding Layers**: Both users and movies are represented by embedding vectors. These embeddings capture latent relationships between users and movies.\n",
        "\n",
        "    - **Concatenation**: The user and movie embeddings are concatenated and passed through dense layers to predict the user’s rating for a movie.\n",
        "\n",
        "- **Step 13: Adding Dense Layers**.\n",
        "\n",
        "    - After concatenating the user and movie embeddings, let's add two dense (fully connected) layers. These layers model the interaction between users and movies.\n",
        "\n",
        "    - Activation Functions: We will use the ReLU (Rectified Linear Unit) activation function for the hidden layers, which helps the model learn non-linear relationships.\n",
        "\n",
        "- **Step 14: Compiling the Model**. Let's compile the model using Mean Squared Error (MSE) as the loss function, which is appropriate for a regression task like predicting ratings. The optimizer used is Adam, a popular choice for deep learning models due to its efficiency."
      ]
    },
    {
      "cell_type": "code",
      "execution_count": null,
      "id": "d8538015",
      "metadata": {
        "execution": {
          "iopub.execute_input": "2024-11-13T15:26:39.209670Z",
          "iopub.status.busy": "2024-11-13T15:26:39.209191Z",
          "iopub.status.idle": "2024-11-13T15:26:39.459017Z",
          "shell.execute_reply": "2024-11-13T15:26:39.457635Z"
        },
        "papermill": {
          "duration": 0.270973,
          "end_time": "2024-11-13T15:26:39.461677",
          "exception": false,
          "start_time": "2024-11-13T15:26:39.190704",
          "status": "completed"
        },
        "tags": [],
        "id": "d8538015",
        "outputId": "05d1b0e5-5606-4a3c-99b9-aa823b1052d9"
      },
      "outputs": [
        {
          "data": {
            "text/html": [
              "<pre style=\"white-space:pre;overflow-x:auto;line-height:normal;font-family:Menlo,'DejaVu Sans Mono',consolas,'Courier New',monospace\"><span style=\"font-weight: bold\">Model: \"functional_1\"</span>\n",
              "</pre>\n"
            ],
            "text/plain": [
              "\u001b[1mModel: \"functional_1\"\u001b[0m\n"
            ]
          },
          "metadata": {},
          "output_type": "display_data"
        },
        {
          "data": {
            "text/html": [
              "<pre style=\"white-space:pre;overflow-x:auto;line-height:normal;font-family:Menlo,'DejaVu Sans Mono',consolas,'Courier New',monospace\">┏━━━━━━━━━━━━━━━━━━━━━┳━━━━━━━━━━━━━━━━━━━┳━━━━━━━━━━━━┳━━━━━━━━━━━━━━━━━━━┓\n",
              "┃<span style=\"font-weight: bold\"> Layer (type)        </span>┃<span style=\"font-weight: bold\"> Output Shape      </span>┃<span style=\"font-weight: bold\">    Param # </span>┃<span style=\"font-weight: bold\"> Connected to      </span>┃\n",
              "┡━━━━━━━━━━━━━━━━━━━━━╇━━━━━━━━━━━━━━━━━━━╇━━━━━━━━━━━━╇━━━━━━━━━━━━━━━━━━━┩\n",
              "│ user_input          │ (<span style=\"color: #00d7ff; text-decoration-color: #00d7ff\">None</span>, <span style=\"color: #00af00; text-decoration-color: #00af00\">1</span>)         │          <span style=\"color: #00af00; text-decoration-color: #00af00\">0</span> │ -                 │\n",
              "│ (<span style=\"color: #0087ff; text-decoration-color: #0087ff\">InputLayer</span>)        │                   │            │                   │\n",
              "├─────────────────────┼───────────────────┼────────────┼───────────────────┤\n",
              "│ movie_input         │ (<span style=\"color: #00d7ff; text-decoration-color: #00d7ff\">None</span>, <span style=\"color: #00af00; text-decoration-color: #00af00\">1</span>)         │          <span style=\"color: #00af00; text-decoration-color: #00af00\">0</span> │ -                 │\n",
              "│ (<span style=\"color: #0087ff; text-decoration-color: #0087ff\">InputLayer</span>)        │                   │            │                   │\n",
              "├─────────────────────┼───────────────────┼────────────┼───────────────────┤\n",
              "│ embedding           │ (<span style=\"color: #00d7ff; text-decoration-color: #00d7ff\">None</span>, <span style=\"color: #00af00; text-decoration-color: #00af00\">1</span>, <span style=\"color: #00af00; text-decoration-color: #00af00\">50</span>)     │     <span style=\"color: #00af00; text-decoration-color: #00af00\">33,600</span> │ user_input[<span style=\"color: #00af00; text-decoration-color: #00af00\">0</span>][<span style=\"color: #00af00; text-decoration-color: #00af00\">0</span>]  │\n",
              "│ (<span style=\"color: #0087ff; text-decoration-color: #0087ff\">Embedding</span>)         │                   │            │                   │\n",
              "├─────────────────────┼───────────────────┼────────────┼───────────────────┤\n",
              "│ embedding_1         │ (<span style=\"color: #00d7ff; text-decoration-color: #00d7ff\">None</span>, <span style=\"color: #00af00; text-decoration-color: #00af00\">1</span>, <span style=\"color: #00af00; text-decoration-color: #00af00\">50</span>)     │  <span style=\"color: #00af00; text-decoration-color: #00af00\">8,035,950</span> │ movie_input[<span style=\"color: #00af00; text-decoration-color: #00af00\">0</span>][<span style=\"color: #00af00; text-decoration-color: #00af00\">0</span>] │\n",
              "│ (<span style=\"color: #0087ff; text-decoration-color: #0087ff\">Embedding</span>)         │                   │            │                   │\n",
              "├─────────────────────┼───────────────────┼────────────┼───────────────────┤\n",
              "│ flatten (<span style=\"color: #0087ff; text-decoration-color: #0087ff\">Flatten</span>)   │ (<span style=\"color: #00d7ff; text-decoration-color: #00d7ff\">None</span>, <span style=\"color: #00af00; text-decoration-color: #00af00\">50</span>)        │          <span style=\"color: #00af00; text-decoration-color: #00af00\">0</span> │ embedding[<span style=\"color: #00af00; text-decoration-color: #00af00\">0</span>][<span style=\"color: #00af00; text-decoration-color: #00af00\">0</span>]   │\n",
              "├─────────────────────┼───────────────────┼────────────┼───────────────────┤\n",
              "│ flatten_1 (<span style=\"color: #0087ff; text-decoration-color: #0087ff\">Flatten</span>) │ (<span style=\"color: #00d7ff; text-decoration-color: #00d7ff\">None</span>, <span style=\"color: #00af00; text-decoration-color: #00af00\">50</span>)        │          <span style=\"color: #00af00; text-decoration-color: #00af00\">0</span> │ embedding_1[<span style=\"color: #00af00; text-decoration-color: #00af00\">0</span>][<span style=\"color: #00af00; text-decoration-color: #00af00\">0</span>] │\n",
              "├─────────────────────┼───────────────────┼────────────┼───────────────────┤\n",
              "│ concatenate         │ (<span style=\"color: #00d7ff; text-decoration-color: #00d7ff\">None</span>, <span style=\"color: #00af00; text-decoration-color: #00af00\">100</span>)       │          <span style=\"color: #00af00; text-decoration-color: #00af00\">0</span> │ flatten[<span style=\"color: #00af00; text-decoration-color: #00af00\">0</span>][<span style=\"color: #00af00; text-decoration-color: #00af00\">0</span>],    │\n",
              "│ (<span style=\"color: #0087ff; text-decoration-color: #0087ff\">Concatenate</span>)       │                   │            │ flatten_1[<span style=\"color: #00af00; text-decoration-color: #00af00\">0</span>][<span style=\"color: #00af00; text-decoration-color: #00af00\">0</span>]   │\n",
              "├─────────────────────┼───────────────────┼────────────┼───────────────────┤\n",
              "│ dense (<span style=\"color: #0087ff; text-decoration-color: #0087ff\">Dense</span>)       │ (<span style=\"color: #00d7ff; text-decoration-color: #00d7ff\">None</span>, <span style=\"color: #00af00; text-decoration-color: #00af00\">128</span>)       │     <span style=\"color: #00af00; text-decoration-color: #00af00\">12,928</span> │ concatenate[<span style=\"color: #00af00; text-decoration-color: #00af00\">0</span>][<span style=\"color: #00af00; text-decoration-color: #00af00\">0</span>] │\n",
              "├─────────────────────┼───────────────────┼────────────┼───────────────────┤\n",
              "│ dense_1 (<span style=\"color: #0087ff; text-decoration-color: #0087ff\">Dense</span>)     │ (<span style=\"color: #00d7ff; text-decoration-color: #00d7ff\">None</span>, <span style=\"color: #00af00; text-decoration-color: #00af00\">64</span>)        │      <span style=\"color: #00af00; text-decoration-color: #00af00\">8,256</span> │ dense[<span style=\"color: #00af00; text-decoration-color: #00af00\">0</span>][<span style=\"color: #00af00; text-decoration-color: #00af00\">0</span>]       │\n",
              "├─────────────────────┼───────────────────┼────────────┼───────────────────┤\n",
              "│ dense_2 (<span style=\"color: #0087ff; text-decoration-color: #0087ff\">Dense</span>)     │ (<span style=\"color: #00d7ff; text-decoration-color: #00d7ff\">None</span>, <span style=\"color: #00af00; text-decoration-color: #00af00\">1</span>)         │         <span style=\"color: #00af00; text-decoration-color: #00af00\">65</span> │ dense_1[<span style=\"color: #00af00; text-decoration-color: #00af00\">0</span>][<span style=\"color: #00af00; text-decoration-color: #00af00\">0</span>]     │\n",
              "└─────────────────────┴───────────────────┴────────────┴───────────────────┘\n",
              "</pre>\n"
            ],
            "text/plain": [
              "┏━━━━━━━━━━━━━━━━━━━━━┳━━━━━━━━━━━━━━━━━━━┳━━━━━━━━━━━━┳━━━━━━━━━━━━━━━━━━━┓\n",
              "┃\u001b[1m \u001b[0m\u001b[1mLayer (type)       \u001b[0m\u001b[1m \u001b[0m┃\u001b[1m \u001b[0m\u001b[1mOutput Shape     \u001b[0m\u001b[1m \u001b[0m┃\u001b[1m \u001b[0m\u001b[1m   Param #\u001b[0m\u001b[1m \u001b[0m┃\u001b[1m \u001b[0m\u001b[1mConnected to     \u001b[0m\u001b[1m \u001b[0m┃\n",
              "┡━━━━━━━━━━━━━━━━━━━━━╇━━━━━━━━━━━━━━━━━━━╇━━━━━━━━━━━━╇━━━━━━━━━━━━━━━━━━━┩\n",
              "│ user_input          │ (\u001b[38;5;45mNone\u001b[0m, \u001b[38;5;34m1\u001b[0m)         │          \u001b[38;5;34m0\u001b[0m │ -                 │\n",
              "│ (\u001b[38;5;33mInputLayer\u001b[0m)        │                   │            │                   │\n",
              "├─────────────────────┼───────────────────┼────────────┼───────────────────┤\n",
              "│ movie_input         │ (\u001b[38;5;45mNone\u001b[0m, \u001b[38;5;34m1\u001b[0m)         │          \u001b[38;5;34m0\u001b[0m │ -                 │\n",
              "│ (\u001b[38;5;33mInputLayer\u001b[0m)        │                   │            │                   │\n",
              "├─────────────────────┼───────────────────┼────────────┼───────────────────┤\n",
              "│ embedding           │ (\u001b[38;5;45mNone\u001b[0m, \u001b[38;5;34m1\u001b[0m, \u001b[38;5;34m50\u001b[0m)     │     \u001b[38;5;34m33,600\u001b[0m │ user_input[\u001b[38;5;34m0\u001b[0m][\u001b[38;5;34m0\u001b[0m]  │\n",
              "│ (\u001b[38;5;33mEmbedding\u001b[0m)         │                   │            │                   │\n",
              "├─────────────────────┼───────────────────┼────────────┼───────────────────┤\n",
              "│ embedding_1         │ (\u001b[38;5;45mNone\u001b[0m, \u001b[38;5;34m1\u001b[0m, \u001b[38;5;34m50\u001b[0m)     │  \u001b[38;5;34m8,035,950\u001b[0m │ movie_input[\u001b[38;5;34m0\u001b[0m][\u001b[38;5;34m0\u001b[0m] │\n",
              "│ (\u001b[38;5;33mEmbedding\u001b[0m)         │                   │            │                   │\n",
              "├─────────────────────┼───────────────────┼────────────┼───────────────────┤\n",
              "│ flatten (\u001b[38;5;33mFlatten\u001b[0m)   │ (\u001b[38;5;45mNone\u001b[0m, \u001b[38;5;34m50\u001b[0m)        │          \u001b[38;5;34m0\u001b[0m │ embedding[\u001b[38;5;34m0\u001b[0m][\u001b[38;5;34m0\u001b[0m]   │\n",
              "├─────────────────────┼───────────────────┼────────────┼───────────────────┤\n",
              "│ flatten_1 (\u001b[38;5;33mFlatten\u001b[0m) │ (\u001b[38;5;45mNone\u001b[0m, \u001b[38;5;34m50\u001b[0m)        │          \u001b[38;5;34m0\u001b[0m │ embedding_1[\u001b[38;5;34m0\u001b[0m][\u001b[38;5;34m0\u001b[0m] │\n",
              "├─────────────────────┼───────────────────┼────────────┼───────────────────┤\n",
              "│ concatenate         │ (\u001b[38;5;45mNone\u001b[0m, \u001b[38;5;34m100\u001b[0m)       │          \u001b[38;5;34m0\u001b[0m │ flatten[\u001b[38;5;34m0\u001b[0m][\u001b[38;5;34m0\u001b[0m],    │\n",
              "│ (\u001b[38;5;33mConcatenate\u001b[0m)       │                   │            │ flatten_1[\u001b[38;5;34m0\u001b[0m][\u001b[38;5;34m0\u001b[0m]   │\n",
              "├─────────────────────┼───────────────────┼────────────┼───────────────────┤\n",
              "│ dense (\u001b[38;5;33mDense\u001b[0m)       │ (\u001b[38;5;45mNone\u001b[0m, \u001b[38;5;34m128\u001b[0m)       │     \u001b[38;5;34m12,928\u001b[0m │ concatenate[\u001b[38;5;34m0\u001b[0m][\u001b[38;5;34m0\u001b[0m] │\n",
              "├─────────────────────┼───────────────────┼────────────┼───────────────────┤\n",
              "│ dense_1 (\u001b[38;5;33mDense\u001b[0m)     │ (\u001b[38;5;45mNone\u001b[0m, \u001b[38;5;34m64\u001b[0m)        │      \u001b[38;5;34m8,256\u001b[0m │ dense[\u001b[38;5;34m0\u001b[0m][\u001b[38;5;34m0\u001b[0m]       │\n",
              "├─────────────────────┼───────────────────┼────────────┼───────────────────┤\n",
              "│ dense_2 (\u001b[38;5;33mDense\u001b[0m)     │ (\u001b[38;5;45mNone\u001b[0m, \u001b[38;5;34m1\u001b[0m)         │         \u001b[38;5;34m65\u001b[0m │ dense_1[\u001b[38;5;34m0\u001b[0m][\u001b[38;5;34m0\u001b[0m]     │\n",
              "└─────────────────────┴───────────────────┴────────────┴───────────────────┘\n"
            ]
          },
          "metadata": {},
          "output_type": "display_data"
        },
        {
          "data": {
            "text/html": [
              "<pre style=\"white-space:pre;overflow-x:auto;line-height:normal;font-family:Menlo,'DejaVu Sans Mono',consolas,'Courier New',monospace\"><span style=\"font-weight: bold\"> Total params: </span><span style=\"color: #00af00; text-decoration-color: #00af00\">8,090,799</span> (30.86 MB)\n",
              "</pre>\n"
            ],
            "text/plain": [
              "\u001b[1m Total params: \u001b[0m\u001b[38;5;34m8,090,799\u001b[0m (30.86 MB)\n"
            ]
          },
          "metadata": {},
          "output_type": "display_data"
        },
        {
          "data": {
            "text/html": [
              "<pre style=\"white-space:pre;overflow-x:auto;line-height:normal;font-family:Menlo,'DejaVu Sans Mono',consolas,'Courier New',monospace\"><span style=\"font-weight: bold\"> Trainable params: </span><span style=\"color: #00af00; text-decoration-color: #00af00\">8,090,799</span> (30.86 MB)\n",
              "</pre>\n"
            ],
            "text/plain": [
              "\u001b[1m Trainable params: \u001b[0m\u001b[38;5;34m8,090,799\u001b[0m (30.86 MB)\n"
            ]
          },
          "metadata": {},
          "output_type": "display_data"
        },
        {
          "data": {
            "text/html": [
              "<pre style=\"white-space:pre;overflow-x:auto;line-height:normal;font-family:Menlo,'DejaVu Sans Mono',consolas,'Courier New',monospace\"><span style=\"font-weight: bold\"> Non-trainable params: </span><span style=\"color: #00af00; text-decoration-color: #00af00\">0</span> (0.00 B)\n",
              "</pre>\n"
            ],
            "text/plain": [
              "\u001b[1m Non-trainable params: \u001b[0m\u001b[38;5;34m0\u001b[0m (0.00 B)\n"
            ]
          },
          "metadata": {},
          "output_type": "display_data"
        }
      ],
      "source": [
        "# Define input layers for user IDs and movie IDs\n",
        "user_input = layers.Input(shape=(1,), name='user_input')\n",
        "movie_input = layers.Input(shape=(1,), name='movie_input')\n",
        "\n",
        "# Embedding layers for users and movies\n",
        "# These embeddings learn a fixed-length representation for users and movies\n",
        "user_embedding = layers.Embedding(input_dim=num_users, output_dim=50)(user_input)\n",
        "user_embedding = layers.Flatten()(user_embedding)\n",
        "\n",
        "movie_embedding = layers.Embedding(input_dim=num_movies, output_dim=50)(movie_input)\n",
        "movie_embedding = layers.Flatten()(movie_embedding)\n",
        "\n",
        "# Concatenate the user and movie embeddings\n",
        "concatenated = layers.Concatenate()([user_embedding, movie_embedding])\n",
        "\n",
        "# Add dense layers (fully connected layers) to model interactions between user and movie features\n",
        "dense_1 = layers.Dense(128, activation='relu')(concatenated)\n",
        "dense_2 = layers.Dense(64, activation='relu')(dense_1)\n",
        "\n",
        "# Output layer: predicting the rating as a single value (regression task)\n",
        "output = layers.Dense(1)(dense_2)\n",
        "\n",
        "# Build the model and compile it with Mean Squared Error (MSE) loss function for regression\n",
        "model = models.Model(inputs=[user_input, movie_input], outputs=output)\n",
        "model.compile(optimizer='adam', loss='mse')\n",
        "\n",
        "# Print a summary of the model architecture\n",
        "model.summary()"
      ]
    },
    {
      "cell_type": "markdown",
      "id": "e9244f59",
      "metadata": {
        "papermill": {
          "duration": 0.016941,
          "end_time": "2024-11-13T15:26:39.495968",
          "exception": false,
          "start_time": "2024-11-13T15:26:39.479027",
          "status": "completed"
        },
        "tags": [],
        "id": "e9244f59"
      },
      "source": [
        "# <div style=\"text-align:center; border-radius:15px; padding:15px; margin:0; font-size:110%; font-family:Arial, sans-serif; background-color:#0e560c; color:#E5EFE5;overflow:hidden; box-shadow:0 4px 8px rgba(0, 0, 0, 0.3);\"><b> 7. Training and Evaluating the Model </b></div>"
      ]
    },
    {
      "cell_type": "code",
      "execution_count": null,
      "id": "d10aee38",
      "metadata": {
        "execution": {
          "iopub.execute_input": "2024-11-13T15:26:39.533181Z",
          "iopub.status.busy": "2024-11-13T15:26:39.532711Z",
          "iopub.status.idle": "2024-11-13T15:30:25.626616Z",
          "shell.execute_reply": "2024-11-13T15:30:25.625342Z"
        },
        "papermill": {
          "duration": 226.116021,
          "end_time": "2024-11-13T15:30:25.629383",
          "exception": false,
          "start_time": "2024-11-13T15:26:39.513362",
          "status": "completed"
        },
        "tags": [],
        "id": "d10aee38",
        "outputId": "9dd04bac-27a3-4588-99b3-04d7fbf8621a"
      },
      "outputs": [
        {
          "name": "stdout",
          "output_type": "stream",
          "text": [
            "Epoch 1/5\n",
            "\u001b[1m1124/1124\u001b[0m \u001b[32m━━━━━━━━━━━━━━━━━━━━\u001b[0m\u001b[37m\u001b[0m \u001b[1m51s\u001b[0m 43ms/step - loss: 0.0652 - val_loss: 0.0353\n",
            "Epoch 2/5\n",
            "\u001b[1m1124/1124\u001b[0m \u001b[32m━━━━━━━━━━━━━━━━━━━━\u001b[0m\u001b[37m\u001b[0m \u001b[1m45s\u001b[0m 40ms/step - loss: 0.0296 - val_loss: 0.0328\n",
            "Epoch 3/5\n",
            "\u001b[1m1124/1124\u001b[0m \u001b[32m━━━━━━━━━━━━━━━━━━━━\u001b[0m\u001b[37m\u001b[0m \u001b[1m43s\u001b[0m 38ms/step - loss: 0.0258 - val_loss: 0.0325\n",
            "Epoch 4/5\n",
            "\u001b[1m1124/1124\u001b[0m \u001b[32m━━━━━━━━━━━━━━━━━━━━\u001b[0m\u001b[37m\u001b[0m \u001b[1m43s\u001b[0m 39ms/step - loss: 0.0211 - val_loss: 0.0346\n",
            "Epoch 5/5\n",
            "\u001b[1m1124/1124\u001b[0m \u001b[32m━━━━━━━━━━━━━━━━━━━━\u001b[0m\u001b[37m\u001b[0m \u001b[1m44s\u001b[0m 39ms/step - loss: 0.0169 - val_loss: 0.0363\n",
            "\u001b[1m281/281\u001b[0m \u001b[32m━━━━━━━━━━━━━━━━━━━━\u001b[0m\u001b[37m\u001b[0m \u001b[1m0s\u001b[0m 1ms/step - loss: 0.0365\n",
            "Test MSE: 0.03627840057015419\n"
          ]
        }
      ],
      "source": [
        "# Train the model using the training data, and validate it on the test data\n",
        "history = model.fit(\n",
        "    [train_user_ids, train_movie_ids],  # Input: user and movie IDs\n",
        "    train_ratings,                      # Target: ratings\n",
        "    epochs=5,\n",
        "    batch_size=32,\n",
        "    validation_data=([test_user_ids, test_movie_ids], test_ratings),\n",
        "    verbose=1                           # Show training progress\n",
        ")\n",
        "\n",
        "# Evaluate the model's performance on the test data using Mean Squared Error (MSE)\n",
        "mse = model.evaluate([test_user_ids, test_movie_ids], test_ratings)\n",
        "print(f'Test MSE: {mse}')"
      ]
    },
    {
      "cell_type": "markdown",
      "id": "ec7b2785",
      "metadata": {
        "papermill": {
          "duration": 0.304392,
          "end_time": "2024-11-13T15:30:26.236365",
          "exception": false,
          "start_time": "2024-11-13T15:30:25.931973",
          "status": "completed"
        },
        "tags": [],
        "id": "ec7b2785"
      },
      "source": [
        "# <div style=\"text-align:center; border-radius:15px; padding:15px; margin:0; font-size:110%; font-family:Arial, sans-serif; background-color:#0e560c; color:#E5EFE5;overflow:hidden; box-shadow:0 4px 8px rgba(0, 0, 0, 0.3);\"><b> 8. Advanced Model with Dropout </b></div>"
      ]
    },
    {
      "cell_type": "markdown",
      "id": "487c3a82",
      "metadata": {
        "papermill": {
          "duration": 0.323419,
          "end_time": "2024-11-13T15:30:26.860862",
          "exception": false,
          "start_time": "2024-11-13T15:30:26.537443",
          "status": "completed"
        },
        "tags": [],
        "id": "487c3a82"
      },
      "source": [
        "- **Step 15 (optional): Enhancing the Model**. To enhance the model’s robustness and prevent overfitting, we will introduce dropout regularization. Dropout randomly drops units in the neural network during training, forcing the model to generalize better."
      ]
    },
    {
      "cell_type": "code",
      "execution_count": null,
      "id": "b00778ff",
      "metadata": {
        "execution": {
          "iopub.execute_input": "2024-11-13T15:30:27.468039Z",
          "iopub.status.busy": "2024-11-13T15:30:27.467590Z",
          "iopub.status.idle": "2024-11-13T15:30:27.616138Z",
          "shell.execute_reply": "2024-11-13T15:30:27.615037Z"
        },
        "papermill": {
          "duration": 0.453799,
          "end_time": "2024-11-13T15:30:27.618972",
          "exception": false,
          "start_time": "2024-11-13T15:30:27.165173",
          "status": "completed"
        },
        "tags": [],
        "id": "b00778ff",
        "outputId": "c27f128b-7b9a-4641-876b-9f190013ea20"
      },
      "outputs": [
        {
          "data": {
            "text/html": [
              "<pre style=\"white-space:pre;overflow-x:auto;line-height:normal;font-family:Menlo,'DejaVu Sans Mono',consolas,'Courier New',monospace\"><span style=\"font-weight: bold\">Model: \"functional_3\"</span>\n",
              "</pre>\n"
            ],
            "text/plain": [
              "\u001b[1mModel: \"functional_3\"\u001b[0m\n"
            ]
          },
          "metadata": {},
          "output_type": "display_data"
        },
        {
          "data": {
            "text/html": [
              "<pre style=\"white-space:pre;overflow-x:auto;line-height:normal;font-family:Menlo,'DejaVu Sans Mono',consolas,'Courier New',monospace\">┏━━━━━━━━━━━━━━━━━━━━━┳━━━━━━━━━━━━━━━━━━━┳━━━━━━━━━━━━┳━━━━━━━━━━━━━━━━━━━┓\n",
              "┃<span style=\"font-weight: bold\"> Layer (type)        </span>┃<span style=\"font-weight: bold\"> Output Shape      </span>┃<span style=\"font-weight: bold\">    Param # </span>┃<span style=\"font-weight: bold\"> Connected to      </span>┃\n",
              "┡━━━━━━━━━━━━━━━━━━━━━╇━━━━━━━━━━━━━━━━━━━╇━━━━━━━━━━━━╇━━━━━━━━━━━━━━━━━━━┩\n",
              "│ user_input          │ (<span style=\"color: #00d7ff; text-decoration-color: #00d7ff\">None</span>, <span style=\"color: #00af00; text-decoration-color: #00af00\">1</span>)         │          <span style=\"color: #00af00; text-decoration-color: #00af00\">0</span> │ -                 │\n",
              "│ (<span style=\"color: #0087ff; text-decoration-color: #0087ff\">InputLayer</span>)        │                   │            │                   │\n",
              "├─────────────────────┼───────────────────┼────────────┼───────────────────┤\n",
              "│ movie_input         │ (<span style=\"color: #00d7ff; text-decoration-color: #00d7ff\">None</span>, <span style=\"color: #00af00; text-decoration-color: #00af00\">1</span>)         │          <span style=\"color: #00af00; text-decoration-color: #00af00\">0</span> │ -                 │\n",
              "│ (<span style=\"color: #0087ff; text-decoration-color: #0087ff\">InputLayer</span>)        │                   │            │                   │\n",
              "├─────────────────────┼───────────────────┼────────────┼───────────────────┤\n",
              "│ embedding_2         │ (<span style=\"color: #00d7ff; text-decoration-color: #00d7ff\">None</span>, <span style=\"color: #00af00; text-decoration-color: #00af00\">1</span>, <span style=\"color: #00af00; text-decoration-color: #00af00\">50</span>)     │     <span style=\"color: #00af00; text-decoration-color: #00af00\">33,600</span> │ user_input[<span style=\"color: #00af00; text-decoration-color: #00af00\">0</span>][<span style=\"color: #00af00; text-decoration-color: #00af00\">0</span>]  │\n",
              "│ (<span style=\"color: #0087ff; text-decoration-color: #0087ff\">Embedding</span>)         │                   │            │                   │\n",
              "├─────────────────────┼───────────────────┼────────────┼───────────────────┤\n",
              "│ embedding_3         │ (<span style=\"color: #00d7ff; text-decoration-color: #00d7ff\">None</span>, <span style=\"color: #00af00; text-decoration-color: #00af00\">1</span>, <span style=\"color: #00af00; text-decoration-color: #00af00\">50</span>)     │  <span style=\"color: #00af00; text-decoration-color: #00af00\">8,035,950</span> │ movie_input[<span style=\"color: #00af00; text-decoration-color: #00af00\">0</span>][<span style=\"color: #00af00; text-decoration-color: #00af00\">0</span>] │\n",
              "│ (<span style=\"color: #0087ff; text-decoration-color: #0087ff\">Embedding</span>)         │                   │            │                   │\n",
              "├─────────────────────┼───────────────────┼────────────┼───────────────────┤\n",
              "│ flatten_2 (<span style=\"color: #0087ff; text-decoration-color: #0087ff\">Flatten</span>) │ (<span style=\"color: #00d7ff; text-decoration-color: #00d7ff\">None</span>, <span style=\"color: #00af00; text-decoration-color: #00af00\">50</span>)        │          <span style=\"color: #00af00; text-decoration-color: #00af00\">0</span> │ embedding_2[<span style=\"color: #00af00; text-decoration-color: #00af00\">0</span>][<span style=\"color: #00af00; text-decoration-color: #00af00\">0</span>] │\n",
              "├─────────────────────┼───────────────────┼────────────┼───────────────────┤\n",
              "│ flatten_3 (<span style=\"color: #0087ff; text-decoration-color: #0087ff\">Flatten</span>) │ (<span style=\"color: #00d7ff; text-decoration-color: #00d7ff\">None</span>, <span style=\"color: #00af00; text-decoration-color: #00af00\">50</span>)        │          <span style=\"color: #00af00; text-decoration-color: #00af00\">0</span> │ embedding_3[<span style=\"color: #00af00; text-decoration-color: #00af00\">0</span>][<span style=\"color: #00af00; text-decoration-color: #00af00\">0</span>] │\n",
              "├─────────────────────┼───────────────────┼────────────┼───────────────────┤\n",
              "│ concatenate_1       │ (<span style=\"color: #00d7ff; text-decoration-color: #00d7ff\">None</span>, <span style=\"color: #00af00; text-decoration-color: #00af00\">100</span>)       │          <span style=\"color: #00af00; text-decoration-color: #00af00\">0</span> │ flatten_2[<span style=\"color: #00af00; text-decoration-color: #00af00\">0</span>][<span style=\"color: #00af00; text-decoration-color: #00af00\">0</span>],  │\n",
              "│ (<span style=\"color: #0087ff; text-decoration-color: #0087ff\">Concatenate</span>)       │                   │            │ flatten_3[<span style=\"color: #00af00; text-decoration-color: #00af00\">0</span>][<span style=\"color: #00af00; text-decoration-color: #00af00\">0</span>]   │\n",
              "├─────────────────────┼───────────────────┼────────────┼───────────────────┤\n",
              "│ dense_3 (<span style=\"color: #0087ff; text-decoration-color: #0087ff\">Dense</span>)     │ (<span style=\"color: #00d7ff; text-decoration-color: #00d7ff\">None</span>, <span style=\"color: #00af00; text-decoration-color: #00af00\">128</span>)       │     <span style=\"color: #00af00; text-decoration-color: #00af00\">12,928</span> │ concatenate_1[<span style=\"color: #00af00; text-decoration-color: #00af00\">0</span>]… │\n",
              "├─────────────────────┼───────────────────┼────────────┼───────────────────┤\n",
              "│ dropout (<span style=\"color: #0087ff; text-decoration-color: #0087ff\">Dropout</span>)   │ (<span style=\"color: #00d7ff; text-decoration-color: #00d7ff\">None</span>, <span style=\"color: #00af00; text-decoration-color: #00af00\">128</span>)       │          <span style=\"color: #00af00; text-decoration-color: #00af00\">0</span> │ dense_3[<span style=\"color: #00af00; text-decoration-color: #00af00\">0</span>][<span style=\"color: #00af00; text-decoration-color: #00af00\">0</span>]     │\n",
              "├─────────────────────┼───────────────────┼────────────┼───────────────────┤\n",
              "│ dense_4 (<span style=\"color: #0087ff; text-decoration-color: #0087ff\">Dense</span>)     │ (<span style=\"color: #00d7ff; text-decoration-color: #00d7ff\">None</span>, <span style=\"color: #00af00; text-decoration-color: #00af00\">64</span>)        │      <span style=\"color: #00af00; text-decoration-color: #00af00\">8,256</span> │ dropout[<span style=\"color: #00af00; text-decoration-color: #00af00\">0</span>][<span style=\"color: #00af00; text-decoration-color: #00af00\">0</span>]     │\n",
              "├─────────────────────┼───────────────────┼────────────┼───────────────────┤\n",
              "│ dropout_1 (<span style=\"color: #0087ff; text-decoration-color: #0087ff\">Dropout</span>) │ (<span style=\"color: #00d7ff; text-decoration-color: #00d7ff\">None</span>, <span style=\"color: #00af00; text-decoration-color: #00af00\">64</span>)        │          <span style=\"color: #00af00; text-decoration-color: #00af00\">0</span> │ dense_4[<span style=\"color: #00af00; text-decoration-color: #00af00\">0</span>][<span style=\"color: #00af00; text-decoration-color: #00af00\">0</span>]     │\n",
              "├─────────────────────┼───────────────────┼────────────┼───────────────────┤\n",
              "│ dense_5 (<span style=\"color: #0087ff; text-decoration-color: #0087ff\">Dense</span>)     │ (<span style=\"color: #00d7ff; text-decoration-color: #00d7ff\">None</span>, <span style=\"color: #00af00; text-decoration-color: #00af00\">1</span>)         │         <span style=\"color: #00af00; text-decoration-color: #00af00\">65</span> │ dropout_1[<span style=\"color: #00af00; text-decoration-color: #00af00\">0</span>][<span style=\"color: #00af00; text-decoration-color: #00af00\">0</span>]   │\n",
              "└─────────────────────┴───────────────────┴────────────┴───────────────────┘\n",
              "</pre>\n"
            ],
            "text/plain": [
              "┏━━━━━━━━━━━━━━━━━━━━━┳━━━━━━━━━━━━━━━━━━━┳━━━━━━━━━━━━┳━━━━━━━━━━━━━━━━━━━┓\n",
              "┃\u001b[1m \u001b[0m\u001b[1mLayer (type)       \u001b[0m\u001b[1m \u001b[0m┃\u001b[1m \u001b[0m\u001b[1mOutput Shape     \u001b[0m\u001b[1m \u001b[0m┃\u001b[1m \u001b[0m\u001b[1m   Param #\u001b[0m\u001b[1m \u001b[0m┃\u001b[1m \u001b[0m\u001b[1mConnected to     \u001b[0m\u001b[1m \u001b[0m┃\n",
              "┡━━━━━━━━━━━━━━━━━━━━━╇━━━━━━━━━━━━━━━━━━━╇━━━━━━━━━━━━╇━━━━━━━━━━━━━━━━━━━┩\n",
              "│ user_input          │ (\u001b[38;5;45mNone\u001b[0m, \u001b[38;5;34m1\u001b[0m)         │          \u001b[38;5;34m0\u001b[0m │ -                 │\n",
              "│ (\u001b[38;5;33mInputLayer\u001b[0m)        │                   │            │                   │\n",
              "├─────────────────────┼───────────────────┼────────────┼───────────────────┤\n",
              "│ movie_input         │ (\u001b[38;5;45mNone\u001b[0m, \u001b[38;5;34m1\u001b[0m)         │          \u001b[38;5;34m0\u001b[0m │ -                 │\n",
              "│ (\u001b[38;5;33mInputLayer\u001b[0m)        │                   │            │                   │\n",
              "├─────────────────────┼───────────────────┼────────────┼───────────────────┤\n",
              "│ embedding_2         │ (\u001b[38;5;45mNone\u001b[0m, \u001b[38;5;34m1\u001b[0m, \u001b[38;5;34m50\u001b[0m)     │     \u001b[38;5;34m33,600\u001b[0m │ user_input[\u001b[38;5;34m0\u001b[0m][\u001b[38;5;34m0\u001b[0m]  │\n",
              "│ (\u001b[38;5;33mEmbedding\u001b[0m)         │                   │            │                   │\n",
              "├─────────────────────┼───────────────────┼────────────┼───────────────────┤\n",
              "│ embedding_3         │ (\u001b[38;5;45mNone\u001b[0m, \u001b[38;5;34m1\u001b[0m, \u001b[38;5;34m50\u001b[0m)     │  \u001b[38;5;34m8,035,950\u001b[0m │ movie_input[\u001b[38;5;34m0\u001b[0m][\u001b[38;5;34m0\u001b[0m] │\n",
              "│ (\u001b[38;5;33mEmbedding\u001b[0m)         │                   │            │                   │\n",
              "├─────────────────────┼───────────────────┼────────────┼───────────────────┤\n",
              "│ flatten_2 (\u001b[38;5;33mFlatten\u001b[0m) │ (\u001b[38;5;45mNone\u001b[0m, \u001b[38;5;34m50\u001b[0m)        │          \u001b[38;5;34m0\u001b[0m │ embedding_2[\u001b[38;5;34m0\u001b[0m][\u001b[38;5;34m0\u001b[0m] │\n",
              "├─────────────────────┼───────────────────┼────────────┼───────────────────┤\n",
              "│ flatten_3 (\u001b[38;5;33mFlatten\u001b[0m) │ (\u001b[38;5;45mNone\u001b[0m, \u001b[38;5;34m50\u001b[0m)        │          \u001b[38;5;34m0\u001b[0m │ embedding_3[\u001b[38;5;34m0\u001b[0m][\u001b[38;5;34m0\u001b[0m] │\n",
              "├─────────────────────┼───────────────────┼────────────┼───────────────────┤\n",
              "│ concatenate_1       │ (\u001b[38;5;45mNone\u001b[0m, \u001b[38;5;34m100\u001b[0m)       │          \u001b[38;5;34m0\u001b[0m │ flatten_2[\u001b[38;5;34m0\u001b[0m][\u001b[38;5;34m0\u001b[0m],  │\n",
              "│ (\u001b[38;5;33mConcatenate\u001b[0m)       │                   │            │ flatten_3[\u001b[38;5;34m0\u001b[0m][\u001b[38;5;34m0\u001b[0m]   │\n",
              "├─────────────────────┼───────────────────┼────────────┼───────────────────┤\n",
              "│ dense_3 (\u001b[38;5;33mDense\u001b[0m)     │ (\u001b[38;5;45mNone\u001b[0m, \u001b[38;5;34m128\u001b[0m)       │     \u001b[38;5;34m12,928\u001b[0m │ concatenate_1[\u001b[38;5;34m0\u001b[0m]… │\n",
              "├─────────────────────┼───────────────────┼────────────┼───────────────────┤\n",
              "│ dropout (\u001b[38;5;33mDropout\u001b[0m)   │ (\u001b[38;5;45mNone\u001b[0m, \u001b[38;5;34m128\u001b[0m)       │          \u001b[38;5;34m0\u001b[0m │ dense_3[\u001b[38;5;34m0\u001b[0m][\u001b[38;5;34m0\u001b[0m]     │\n",
              "├─────────────────────┼───────────────────┼────────────┼───────────────────┤\n",
              "│ dense_4 (\u001b[38;5;33mDense\u001b[0m)     │ (\u001b[38;5;45mNone\u001b[0m, \u001b[38;5;34m64\u001b[0m)        │      \u001b[38;5;34m8,256\u001b[0m │ dropout[\u001b[38;5;34m0\u001b[0m][\u001b[38;5;34m0\u001b[0m]     │\n",
              "├─────────────────────┼───────────────────┼────────────┼───────────────────┤\n",
              "│ dropout_1 (\u001b[38;5;33mDropout\u001b[0m) │ (\u001b[38;5;45mNone\u001b[0m, \u001b[38;5;34m64\u001b[0m)        │          \u001b[38;5;34m0\u001b[0m │ dense_4[\u001b[38;5;34m0\u001b[0m][\u001b[38;5;34m0\u001b[0m]     │\n",
              "├─────────────────────┼───────────────────┼────────────┼───────────────────┤\n",
              "│ dense_5 (\u001b[38;5;33mDense\u001b[0m)     │ (\u001b[38;5;45mNone\u001b[0m, \u001b[38;5;34m1\u001b[0m)         │         \u001b[38;5;34m65\u001b[0m │ dropout_1[\u001b[38;5;34m0\u001b[0m][\u001b[38;5;34m0\u001b[0m]   │\n",
              "└─────────────────────┴───────────────────┴────────────┴───────────────────┘\n"
            ]
          },
          "metadata": {},
          "output_type": "display_data"
        },
        {
          "data": {
            "text/html": [
              "<pre style=\"white-space:pre;overflow-x:auto;line-height:normal;font-family:Menlo,'DejaVu Sans Mono',consolas,'Courier New',monospace\"><span style=\"font-weight: bold\"> Total params: </span><span style=\"color: #00af00; text-decoration-color: #00af00\">8,090,799</span> (30.86 MB)\n",
              "</pre>\n"
            ],
            "text/plain": [
              "\u001b[1m Total params: \u001b[0m\u001b[38;5;34m8,090,799\u001b[0m (30.86 MB)\n"
            ]
          },
          "metadata": {},
          "output_type": "display_data"
        },
        {
          "data": {
            "text/html": [
              "<pre style=\"white-space:pre;overflow-x:auto;line-height:normal;font-family:Menlo,'DejaVu Sans Mono',consolas,'Courier New',monospace\"><span style=\"font-weight: bold\"> Trainable params: </span><span style=\"color: #00af00; text-decoration-color: #00af00\">8,090,799</span> (30.86 MB)\n",
              "</pre>\n"
            ],
            "text/plain": [
              "\u001b[1m Trainable params: \u001b[0m\u001b[38;5;34m8,090,799\u001b[0m (30.86 MB)\n"
            ]
          },
          "metadata": {},
          "output_type": "display_data"
        },
        {
          "data": {
            "text/html": [
              "<pre style=\"white-space:pre;overflow-x:auto;line-height:normal;font-family:Menlo,'DejaVu Sans Mono',consolas,'Courier New',monospace\"><span style=\"font-weight: bold\"> Non-trainable params: </span><span style=\"color: #00af00; text-decoration-color: #00af00\">0</span> (0.00 B)\n",
              "</pre>\n"
            ],
            "text/plain": [
              "\u001b[1m Non-trainable params: \u001b[0m\u001b[38;5;34m0\u001b[0m (0.00 B)\n"
            ]
          },
          "metadata": {},
          "output_type": "display_data"
        }
      ],
      "source": [
        "# Add dropout layers to prevent overfitting and help the model generalize better\n",
        "user_input = layers.Input(shape=(1,), name='user_input')\n",
        "movie_input = layers.Input(shape=(1,), name='movie_input')\n",
        "\n",
        "# Embedding layers for users and movies\n",
        "user_embedding = layers.Embedding(input_dim=num_users, output_dim=50)(user_input)\n",
        "user_embedding = layers.Flatten()(user_embedding)\n",
        "\n",
        "movie_embedding = layers.Embedding(input_dim=num_movies, output_dim=50)(movie_input)\n",
        "movie_embedding = layers.Flatten()(movie_embedding)\n",
        "\n",
        "# Concatenate user and movie embeddings\n",
        "concat = layers.Concatenate()([user_embedding, movie_embedding])\n",
        "\n",
        "# Add dense layers with dropout\n",
        "dense_1 = layers.Dense(128, activation='relu')(concat)\n",
        "dense_1 = layers.Dropout(0.2)(dense_1)  # 20% dropout for regularization\n",
        "\n",
        "dense_2 = layers.Dense(64, activation='relu')(dense_1)\n",
        "dense_2 = layers.Dropout(0.2)(dense_2)\n",
        "\n",
        "# Output layer for rating prediction\n",
        "output = layers.Dense(1)(dense_2)\n",
        "\n",
        "# Compile the advanced model with MSE loss\n",
        "model = models.Model(inputs=[user_input, movie_input], outputs=output)\n",
        "model.compile(optimizer='adam', loss='mse')\n",
        "\n",
        "# Print the model summary\n",
        "model.summary()"
      ]
    },
    {
      "cell_type": "code",
      "execution_count": null,
      "id": "9fef6065",
      "metadata": {
        "execution": {
          "iopub.execute_input": "2024-11-13T15:30:28.224434Z",
          "iopub.status.busy": "2024-11-13T15:30:28.224032Z",
          "iopub.status.idle": "2024-11-13T15:34:32.575498Z",
          "shell.execute_reply": "2024-11-13T15:34:32.574231Z"
        },
        "papermill": {
          "duration": 244.658194,
          "end_time": "2024-11-13T15:34:32.578054",
          "exception": false,
          "start_time": "2024-11-13T15:30:27.919860",
          "status": "completed"
        },
        "tags": [],
        "id": "9fef6065",
        "outputId": "19cf4e21-406f-4ae8-8af7-eac13a504944"
      },
      "outputs": [
        {
          "name": "stdout",
          "output_type": "stream",
          "text": [
            "Epoch 1/5\n",
            "\u001b[1m1124/1124\u001b[0m \u001b[32m━━━━━━━━━━━━━━━━━━━━\u001b[0m\u001b[37m\u001b[0m \u001b[1m51s\u001b[0m 43ms/step - loss: 0.0742 - val_loss: 0.0337\n",
            "Epoch 2/5\n",
            "\u001b[1m1124/1124\u001b[0m \u001b[32m━━━━━━━━━━━━━━━━━━━━\u001b[0m\u001b[37m\u001b[0m \u001b[1m48s\u001b[0m 43ms/step - loss: 0.0342 - val_loss: 0.0319\n",
            "Epoch 3/5\n",
            "\u001b[1m1124/1124\u001b[0m \u001b[32m━━━━━━━━━━━━━━━━━━━━\u001b[0m\u001b[37m\u001b[0m \u001b[1m48s\u001b[0m 43ms/step - loss: 0.0310 - val_loss: 0.0324\n",
            "Epoch 4/5\n",
            "\u001b[1m1124/1124\u001b[0m \u001b[32m━━━━━━━━━━━━━━━━━━━━\u001b[0m\u001b[37m\u001b[0m \u001b[1m48s\u001b[0m 43ms/step - loss: 0.0279 - val_loss: 0.0323\n",
            "Epoch 5/5\n",
            "\u001b[1m1124/1124\u001b[0m \u001b[32m━━━━━━━━━━━━━━━━━━━━\u001b[0m\u001b[37m\u001b[0m \u001b[1m48s\u001b[0m 43ms/step - loss: 0.0242 - val_loss: 0.0335\n",
            "\u001b[1m281/281\u001b[0m \u001b[32m━━━━━━━━━━━━━━━━━━━━\u001b[0m\u001b[37m\u001b[0m \u001b[1m0s\u001b[0m 1ms/step - loss: 0.0343\n",
            "Test MSE: 0.03346678987145424\n"
          ]
        }
      ],
      "source": [
        "# Train the advanced model\n",
        "history = model.fit(\n",
        "    [train_user_ids, train_movie_ids],\n",
        "    train_ratings,\n",
        "    epochs=5,\n",
        "    batch_size=32,\n",
        "    validation_data=([test_user_ids, test_movie_ids], test_ratings),\n",
        "    verbose=1\n",
        ")\n",
        "\n",
        "# Evaluate the advanced model\n",
        "mse = model.evaluate([test_user_ids, test_movie_ids], test_ratings)\n",
        "print(f'Test MSE: {mse}')"
      ]
    },
    {
      "cell_type": "markdown",
      "id": "f290751b",
      "metadata": {
        "papermill": {
          "duration": 0.595033,
          "end_time": "2024-11-13T15:34:33.776862",
          "exception": false,
          "start_time": "2024-11-13T15:34:33.181829",
          "status": "completed"
        },
        "tags": [],
        "id": "f290751b"
      },
      "source": [
        "# <div style=\"text-align:center; border-radius:15px; padding:15px; margin:0; font-size:110%; font-family:Arial, sans-serif; background-color:#0e560c; color:#E5EFE5; overflow:hidden; box-shadow:0 4px 8px rgba(0, 0, 0, 0.3);\"><b> 9. Generation of Movie Recommendations </b></div>"
      ]
    },
    {
      "cell_type": "markdown",
      "id": "2e13ea0f",
      "metadata": {
        "papermill": {
          "duration": 0.599788,
          "end_time": "2024-11-13T15:34:35.037061",
          "exception": false,
          "start_time": "2024-11-13T15:34:34.437273",
          "status": "completed"
        },
        "tags": [],
        "id": "2e13ea0f"
      },
      "source": [
        "## 9.1. Extract User's History\n",
        "\n",
        "We will extract all the movie IDs that a specific user has rated:"
      ]
    },
    {
      "cell_type": "code",
      "execution_count": null,
      "id": "e1b1d3d7",
      "metadata": {
        "execution": {
          "iopub.execute_input": "2024-11-13T15:34:36.236988Z",
          "iopub.status.busy": "2024-11-13T15:34:36.236000Z",
          "iopub.status.idle": "2024-11-13T15:34:36.245663Z",
          "shell.execute_reply": "2024-11-13T15:34:36.244096Z"
        },
        "papermill": {
          "duration": 0.613157,
          "end_time": "2024-11-13T15:34:36.249063",
          "exception": false,
          "start_time": "2024-11-13T15:34:35.635906",
          "status": "completed"
        },
        "tags": [],
        "id": "e1b1d3d7"
      },
      "outputs": [],
      "source": [
        "user_id = 3  # You can replace it with different user ID\n",
        "rated_movies = merged_data[merged_data['userId'] == user_id][['movieId', 'rating', 'title']]"
      ]
    },
    {
      "cell_type": "markdown",
      "id": "710bcb73",
      "metadata": {
        "papermill": {
          "duration": 0.597895,
          "end_time": "2024-11-13T15:34:37.528849",
          "exception": false,
          "start_time": "2024-11-13T15:34:36.930954",
          "status": "completed"
        },
        "tags": [],
        "id": "710bcb73"
      },
      "source": [
        "## 9.2. Generate Predictions for All Unseen Movies\n",
        "\n",
        "Now, predict the ratings for all movies that the user has not rated yet:"
      ]
    },
    {
      "cell_type": "code",
      "execution_count": null,
      "id": "dd395686",
      "metadata": {
        "execution": {
          "iopub.execute_input": "2024-11-13T15:34:38.709997Z",
          "iopub.status.busy": "2024-11-13T15:34:38.709409Z",
          "iopub.status.idle": "2024-11-13T15:34:39.182378Z",
          "shell.execute_reply": "2024-11-13T15:34:39.181140Z"
        },
        "papermill": {
          "duration": 1.06677,
          "end_time": "2024-11-13T15:34:39.185087",
          "exception": false,
          "start_time": "2024-11-13T15:34:38.118317",
          "status": "completed"
        },
        "tags": [],
        "id": "dd395686",
        "outputId": "f36e30b2-36e8-4f5c-e2c6-55063511778a"
      },
      "outputs": [
        {
          "name": "stdout",
          "output_type": "stream",
          "text": [
            "\u001b[1m88/88\u001b[0m \u001b[32m━━━━━━━━━━━━━━━━━━━━\u001b[0m\u001b[37m\u001b[0m \u001b[1m0s\u001b[0m 3ms/step\n"
          ]
        }
      ],
      "source": [
        "# Get all unique movie IDs\n",
        "all_movie_ids = merged_data['movieId'].unique()\n",
        "\n",
        "# Find movies the user hasn't rated\n",
        "unseen_movie_ids = np.setdiff1d(all_movie_ids, rated_movies['movieId'])\n",
        "\n",
        "# Create arrays for unseen movie IDs and corresponding user ID\n",
        "unseen_movie_ids_input = np.array(unseen_movie_ids)\n",
        "user_input_array = np.full(len(unseen_movie_ids_input), user_id)\n",
        "\n",
        "# Predict ratings for unseen movies\n",
        "predicted_ratings = model.predict([user_input_array, unseen_movie_ids_input])\n",
        "\n",
        "# Combine unseen movie IDs with predicted ratings\n",
        "movie_predictions = pd.DataFrame({\n",
        "    'movieId': unseen_movie_ids_input,\n",
        "    'predicted_rating': predicted_ratings.flatten()\n",
        "})"
      ]
    },
    {
      "cell_type": "markdown",
      "id": "ed4cdb5b",
      "metadata": {
        "papermill": {
          "duration": 0.594858,
          "end_time": "2024-11-13T15:34:40.440667",
          "exception": false,
          "start_time": "2024-11-13T15:34:39.845809",
          "status": "completed"
        },
        "tags": [],
        "id": "ed4cdb5b"
      },
      "source": [
        "## 9.3. Sort by Predicted Ratings\n",
        "Once we have the predicted ratings, we'll sort them to get the top-rated movies:"
      ]
    },
    {
      "cell_type": "code",
      "execution_count": null,
      "id": "fd85f983",
      "metadata": {
        "execution": {
          "iopub.execute_input": "2024-11-13T15:34:41.644894Z",
          "iopub.status.busy": "2024-11-13T15:34:41.644284Z",
          "iopub.status.idle": "2024-11-13T15:34:41.679649Z",
          "shell.execute_reply": "2024-11-13T15:34:41.678082Z"
        },
        "papermill": {
          "duration": 0.64533,
          "end_time": "2024-11-13T15:34:41.682709",
          "exception": false,
          "start_time": "2024-11-13T15:34:41.037379",
          "status": "completed"
        },
        "tags": [],
        "id": "fd85f983",
        "outputId": "d1b80266-ca4c-40ba-8b9b-4c196366f98d"
      },
      "outputs": [
        {
          "name": "stdout",
          "output_type": "stream",
          "text": [
            "Movies the user has already rated:\n",
            "    movieId  rating                                 title\n",
            "64      110     0.8                     Three Colors: Red\n",
            "65      247     0.7                           The Killing\n",
            "66      267     0.6                            Live Flesh\n",
            "67      296     0.9    Terminator 3: Rise of the Machines\n",
            "68      318     1.0              The Million Dollar Hotel\n",
            "69      377     0.5             A Nightmare on Elm Street\n",
            "70      527     0.6                    Once Were Warriors\n",
            "71      588     0.6                           Silent Hill\n",
            "72      592     0.6                      The Conversation\n",
            "73      593     0.6                               Solaris\n",
            "74      595     0.4                 To Kill a Mockingbird\n",
            "75      778     0.8             Monsieur  Hulot's Holiday\n",
            "76      866     0.6                     Finding Neverland\n",
            "77     1271     0.6                                   300\n",
            "78     1378     0.8                              Shortbus\n",
            "79     1580     0.7                                  Rope\n",
            "80     1721     0.9                      All the Way Boys\n",
            "81     1884     0.8                    The Ewok Adventure\n",
            "82     2028     0.8                       Say Anything...\n",
            "83     2694     0.6                       Tuya's Marriage\n",
            "84     2762     0.7                    Young and Innocent\n",
            "85     2841     0.8                A Very Long Engagement\n",
            "86     2959     1.0                        License to Wed\n",
            "87    44191     0.7                          Loose Screws\n",
            "88    58559     0.6  Confession of a Child of the Century\n",
            "\n",
            "Top recommended movies:\n",
            "                    title  predicted_rating\n",
            "0  The Return of the King          0.955188\n",
            "1   Don't Worry, I'm Fine          0.932490\n",
            "2       Woman in the Moon          0.927839\n",
            "3      The Sensuous Nurse          0.906573\n",
            "4      Blondie Knows Best          0.888881\n",
            "5                Dead Man          0.882387\n",
            "6         Cousin, Cousine          0.866497\n",
            "7               Baise-moi          0.863703\n",
            "8          X: The Unknown          0.862882\n",
            "9        Bringing Up Baby          0.862624\n"
          ]
        }
      ],
      "source": [
        "# Sort by predicted rating in descending order and take the top recommendations\n",
        "top_movie_recommendations = movie_predictions.sort_values(by='predicted_rating', ascending=False).head(10)\n",
        "\n",
        "# Merge the recommendations with movie titles for easier readability\n",
        "top_movie_recommendations = pd.merge(top_movie_recommendations, movies[['id', 'title']], left_on='movieId', right_on='id')\n",
        "\n",
        "print(\"Movies the user has already rated:\")\n",
        "print(rated_movies)\n",
        "\n",
        "print(\"\\nTop recommended movies:\")\n",
        "print(top_movie_recommendations[['title', 'predicted_rating']])"
      ]
    }
  ],
  "metadata": {
    "kaggle": {
      "accelerator": "none",
      "dataSources": [
        {
          "datasetId": 3405,
          "sourceId": 6663,
          "sourceType": "datasetVersion"
        }
      ],
      "dockerImageVersionId": 30786,
      "isGpuEnabled": false,
      "isInternetEnabled": true,
      "language": "python",
      "sourceType": "notebook"
    },
    "kernelspec": {
      "display_name": "Python 3",
      "language": "python",
      "name": "python3"
    },
    "language_info": {
      "codemirror_mode": {
        "name": "ipython",
        "version": 3
      },
      "file_extension": ".py",
      "mimetype": "text/x-python",
      "name": "python",
      "nbconvert_exporter": "python",
      "pygments_lexer": "ipython3",
      "version": "3.10.14"
    },
    "papermill": {
      "default_parameters": {},
      "duration": 517.225476,
      "end_time": "2024-11-13T15:34:45.222465",
      "environment_variables": {},
      "exception": null,
      "input_path": "__notebook__.ipynb",
      "output_path": "__notebook__.ipynb",
      "parameters": {},
      "start_time": "2024-11-13T15:26:07.996989",
      "version": "2.6.0"
    },
    "colab": {
      "provenance": [],
      "include_colab_link": true
    }
  },
  "nbformat": 4,
  "nbformat_minor": 5
}